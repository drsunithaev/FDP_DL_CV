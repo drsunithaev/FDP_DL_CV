{
  "cells": [
    {
      "cell_type": "markdown",
      "metadata": {
        "id": "view-in-github",
        "colab_type": "text"
      },
      "source": [
        "<a href=\"https://colab.research.google.com/github/drsunithaev/FDP_DL_CV/blob/main/7_keras_tuner_and_mnist_dataset.ipynb\" target=\"_parent\"><img src=\"https://colab.research.google.com/assets/colab-badge.svg\" alt=\"Open In Colab\"/></a>"
      ]
    },
    {
      "cell_type": "markdown",
      "source": [
        "#**HYPER PARAMETER TUNING**"
      ],
      "metadata": {
        "id": "CnMYWmCQgggb"
      }
    },
    {
      "cell_type": "markdown",
      "source": [
        "# Install Keras Tuner"
      ],
      "metadata": {
        "id": "7qz7yfnvgpo5"
      }
    },
    {
      "metadata": {
        "trusted": true,
        "id": "wBS0a23DeiEU"
      },
      "cell_type": "code",
      "source": [
        "!pip install keras-tuner"
      ],
      "execution_count": null,
      "outputs": []
    },
    {
      "metadata": {
        "_uuid": "8f2839f25d086af736a60e9eeb907d3b93b6e0e5",
        "_cell_guid": "b1076dfc-b9ad-4769-8c92-a6c4dae69d19",
        "trusted": true,
        "id": "CCmwjqvXeiEX"
      },
      "cell_type": "code",
      "source": [
        "import tensorflow as tf\n",
        "from tensorflow import keras\n",
        "import numpy as np"
      ],
      "execution_count": null,
      "outputs": []
    },
    {
      "cell_type": "code",
      "source": [
        "print(tf.__version__)"
      ],
      "metadata": {
        "id": "VEGJuqELgzCi"
      },
      "execution_count": null,
      "outputs": []
    },
    {
      "cell_type": "markdown",
      "source": [
        "# Import data FASION MNIST"
      ],
      "metadata": {
        "id": "CT3HHdSFhqFW"
      }
    },
    {
      "cell_type": "markdown",
      "source": [
        "![fashion_mnist.jpeg](data:image/jpeg;base64,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)"
      ],
      "metadata": {
        "id": "rLZHlsbEohCC"
      }
    },
    {
      "cell_type": "code",
      "source": [
        "fashion_mnist = keras.datasets.fashion_mnist"
      ],
      "metadata": {
        "id": "y3NRM9AVhpYL"
      },
      "execution_count": null,
      "outputs": []
    },
    {
      "cell_type": "code",
      "source": [
        "(train_images, train_labels), (test_images, test_labels) = fashion_mnist.load_data()"
      ],
      "metadata": {
        "id": "v6gKXXbAnw6E"
      },
      "execution_count": null,
      "outputs": []
    },
    {
      "cell_type": "markdown",
      "source": [
        "## Scaling data to 0-1"
      ],
      "metadata": {
        "id": "iLJfOaKxoe9P"
      }
    },
    {
      "cell_type": "code",
      "source": [
        "np.min(train_images)"
      ],
      "metadata": {
        "id": "emdCn_8lyRR6"
      },
      "execution_count": null,
      "outputs": []
    },
    {
      "cell_type": "code",
      "source": [
        "np.max(train_images)"
      ],
      "metadata": {
        "id": "ixV7D27GyWRY"
      },
      "execution_count": null,
      "outputs": []
    },
    {
      "cell_type": "code",
      "source": [
        "np.min(test_images)"
      ],
      "metadata": {
        "id": "6VBq3-8cybQe"
      },
      "execution_count": null,
      "outputs": []
    },
    {
      "cell_type": "code",
      "source": [
        "np.max(test_images)"
      ],
      "metadata": {
        "id": "LJukhHUwybAz"
      },
      "execution_count": null,
      "outputs": []
    },
    {
      "cell_type": "code",
      "source": [
        "train_images = train_images/255.0\n",
        "test_images = test_images/255.0"
      ],
      "metadata": {
        "id": "gB1nsQC3nw2U"
      },
      "execution_count": null,
      "outputs": []
    },
    {
      "cell_type": "code",
      "source": [
        "print(\"Train Minimum\", np.min(train_images))\n",
        "print(\"Train Maximum\",np.max(train_images))\n",
        "print(\"Test Minimum\",np.min(test_images))\n",
        "print(\"Test Maximum\",np.max(test_images))"
      ],
      "metadata": {
        "id": "skVSLnUNylha"
      },
      "execution_count": null,
      "outputs": []
    },
    {
      "cell_type": "code",
      "source": [
        "train_images[0].shape"
      ],
      "metadata": {
        "id": "xkNjPgr7nwvK"
      },
      "execution_count": null,
      "outputs": []
    },
    {
      "cell_type": "code",
      "source": [
        "train_images[0]"
      ],
      "metadata": {
        "id": "wdVeq-_cnwrE"
      },
      "execution_count": null,
      "outputs": []
    },
    {
      "cell_type": "markdown",
      "source": [
        "## Reshaping the data to feed it to CNN"
      ],
      "metadata": {
        "id": "J72oDcRNqAud"
      }
    },
    {
      "cell_type": "code",
      "source": [
        "train_images = train_images.reshape(len(train_images), 28,28,1)\n",
        "test_images = test_images.reshape(len(test_images), 28,28,1)"
      ],
      "metadata": {
        "id": "fcB5k67Pnwns"
      },
      "execution_count": null,
      "outputs": []
    },
    {
      "cell_type": "markdown",
      "source": [
        "## Tuning function"
      ],
      "metadata": {
        "id": "0iQkNfwOqfni"
      }
    },
    {
      "cell_type": "markdown",
      "source": [
        "### hp - hyper parameter\n",
        "##Tuners\n",
        "- RandomSearch Tuner\n",
        "- Hyperband Tuner\n",
        "- BayesianOptimization Tuner"
      ],
      "metadata": {
        "id": "6TF7kx8cAP7Q"
      }
    },
    {
      "cell_type": "code",
      "source": [],
      "metadata": {
        "id": "JQyzG55OU9vF"
      },
      "execution_count": null,
      "outputs": []
    },
    {
      "cell_type": "markdown",
      "source": [
        "##RandomSearch concept:\n",
        "\n",
        "- One way to find the optimal parameters is to try every possible combinations of the available parameters [Grid Search], but the number of combinations would increase exponentially as the number of hyperparameters increases. Trying all the combinations one by one takes longer to explore the hyperparameter space. Random search helps to explore more hyperparameter space in less time as compared to Grid Search. Exploring more hyperparameter space does not guarantee the absolute optimal results but close to optimal. "
      ],
      "metadata": {
        "id": "o6y4BuOT9ZtL"
      }
    },
    {
      "cell_type": "markdown",
      "source": [
        "##Hyperband Concept:\n",
        "\n",
        "- This technique tries to remove one of the problems in random search of hyperparameters. Problem is as follows: Random search may pick some values which are very obviously bad and will do full training and evaluation on it, which is wasteful. Hyperband provides one way to solve this problem. Hyperband Solution: Randomly sample all the combinations of hyperparameter and now instead of running full training and evaluation on it, train the model for few epochs (less than max_epochs) with these combinations and select the best candidates based on the results on these few epochs. It does this iteratively and finally runs full training and evaluation on the final chosen candidates. The number of iterations done depends on parameter ‘hyperband_iterations’ and number of epochs in each iteration are less than ‘max_epochs’."
      ],
      "metadata": {
        "id": "s8m5LpgA9fxW"
      }
    },
    {
      "cell_type": "markdown",
      "source": [
        "##Bayesian Optimization tuner Concept:\n",
        "\n",
        "- This techniques addresses a common problem in RandomSearch and Hyperband. Problem: All the hyperparameter combinations are chosen randomly. Choosing hyperparameters randomly helps to explore the hyperparameter space but does not guarantee absolute optimal hyperparameters. Solution provided by BayesianOptimization tuner: Instead of all combinations being random, it chooses first few randomly, then based on the performance on these hyperparameters it chooses the next best possible hyperparameters. Hence it takes into account the history of the hyperparameters which were tried. The iterations of choosing next set of hyperparameters based on history and evaluating performance continues till the tuner reaches optimal hyperparameters or exhausts maximum number of allowed trails. Maximum trials are set using parameter ‘max_trails’."
      ],
      "metadata": {
        "id": "6ottgEyb-AJ_"
      }
    },
    {
      "cell_type": "code",
      "source": [
        "def build_model(hp):  \n",
        "  model = keras.Sequential([\n",
        "    keras.layers.Conv2D(\n",
        "        filters=hp.Int('conv_1_filter', min_value=32, max_value=128, step=16),\n",
        "        kernel_size=hp.Choice('conv_1_kernel', values = [3,5]),\n",
        "        activation='relu',\n",
        "        input_shape=(28,28,1)\n",
        "    ),\n",
        "    keras.layers.Conv2D(\n",
        "        filters=hp.Int('conv_2_filter', min_value=32, max_value=64, step=16),\n",
        "        kernel_size=hp.Choice('conv_2_kernel', values = [3,5]),\n",
        "        activation='relu'\n",
        "    ),\n",
        "    keras.layers.Flatten(),\n",
        "    keras.layers.Dense(\n",
        "        units=hp.Int('dense_1_units', min_value=32, max_value=128, step=16),\n",
        "        activation='relu'\n",
        "    ),\n",
        "    keras.layers.Dense(10, activation='softmax')\n",
        "  ])\n",
        "  \n",
        "  model.compile(optimizer=keras.optimizers.Adam(hp.Choice('learning_rate', values=[1e-2, 1e-3])),\n",
        "              loss='sparse_categorical_crossentropy',\n",
        "              metrics=['accuracy'])\n",
        "  \n",
        "  return model"
      ],
      "metadata": {
        "id": "8CsORsX6pXap"
      },
      "execution_count": null,
      "outputs": []
    },
    {
      "cell_type": "code",
      "source": [],
      "metadata": {
        "id": "dEBNrdaWLBMu"
      },
      "execution_count": null,
      "outputs": []
    },
    {
      "cell_type": "code",
      "source": [
        "from kerastuner import RandomSearch\n",
        "from kerastuner.engine.hyperparameters import HyperParameters\n"
      ],
      "metadata": {
        "id": "57H0l0_2pXXB"
      },
      "execution_count": null,
      "outputs": []
    },
    {
      "cell_type": "code",
      "source": [
        "tuner_search = RandomSearch(build_model,\n",
        "                          objective='val_accuracy',\n",
        "                          max_trials=5,directory='output',project_name=\"Mnist Fashion\")"
      ],
      "metadata": {
        "id": "FKTnkIxnpXUF"
      },
      "execution_count": null,
      "outputs": []
    },
    {
      "cell_type": "code",
      "source": [
        "tuner_search.search(train_images,train_labels,epochs=3,validation_split=0.1)"
      ],
      "metadata": {
        "id": "xmjQEQMhpXNp"
      },
      "execution_count": null,
      "outputs": []
    },
    {
      "cell_type": "code",
      "source": [
        "model=tuner_search.get_best_models(num_models=1)[0]"
      ],
      "metadata": {
        "id": "AhOO-geRpXKV"
      },
      "execution_count": null,
      "outputs": []
    },
    {
      "cell_type": "code",
      "source": [
        "model.summary()"
      ],
      "metadata": {
        "id": "ReJdlkWkpXFz"
      },
      "execution_count": null,
      "outputs": []
    },
    {
      "cell_type": "code",
      "source": [
        "model.fit(train_images, train_labels, epochs=10, validation_split=0.1, initial_epoch=3)"
      ],
      "metadata": {
        "id": "VshT80CopXB5"
      },
      "execution_count": null,
      "outputs": []
    },
    {
      "cell_type": "code",
      "source": [
        "loss, accuracy = model.evaluate(test_images, test_labels)"
      ],
      "metadata": {
        "id": "_F3eKji4nwh2"
      },
      "execution_count": null,
      "outputs": []
    },
    {
      "cell_type": "code",
      "source": [
        "loss\n"
      ],
      "metadata": {
        "id": "oNvGt5-huUSW"
      },
      "execution_count": null,
      "outputs": []
    },
    {
      "cell_type": "code",
      "source": [
        "accuracy"
      ],
      "metadata": {
        "id": "SdWNSo0KlQ1C"
      },
      "execution_count": null,
      "outputs": []
    },
    {
      "cell_type": "code",
      "source": [
        "tuner_search.results_summary()"
      ],
      "metadata": {
        "id": "zdhGU6MRoV_5"
      },
      "execution_count": null,
      "outputs": []
    },
    {
      "cell_type": "markdown",
      "source": [
        "# ------------------------- END -----------------------------------------------"
      ],
      "metadata": {
        "id": "haWdmmvS__bi"
      }
    },
    {
      "cell_type": "code",
      "source": [],
      "metadata": {
        "id": "tVDOaECOuUMy"
      },
      "execution_count": null,
      "outputs": []
    },
    {
      "cell_type": "code",
      "source": [],
      "metadata": {
        "id": "E2o-n38euUJC"
      },
      "execution_count": null,
      "outputs": []
    },
    {
      "metadata": {
        "_uuid": "d629ff2d2480ee46fbb7e2d37f6b5fab8052498a",
        "_cell_guid": "79c7e3d0-c299-4dcb-8224-4455121ee9b0",
        "trusted": true,
        "id": "IH_S00lreiEY"
      },
      "cell_type": "code",
      "source": [
        "from keras.datasets import mnist\n",
        "(x_train, y_train), (x_test, y_test) = mnist.load_data()\n",
        "\n",
        "#make float\n",
        "x_train = x_train.astype('float32')\n",
        "x_test = x_test.astype('float32')\n",
        "\n",
        "\n",
        "# input image dimensions\n",
        "img_rows, img_cols = 28, 28\n",
        "x_train = x_train.reshape(x_train.shape[0], img_rows, img_cols, 1)\n",
        "\n",
        "x_test = x_test.reshape(x_test.shape[0], img_rows, img_cols, 1)\n",
        "\n",
        "\n",
        "\n",
        "input_shape = (img_rows, img_cols, 1)\n",
        "print(input_shape)"
      ],
      "execution_count": null,
      "outputs": []
    },
    {
      "metadata": {
        "trusted": true,
        "id": "GeHEz7L7eiEY"
      },
      "cell_type": "code",
      "source": [
        "NUM_CLASSES = 10\n",
        "INPUT_SHAPE = input_shape\n"
      ],
      "execution_count": null,
      "outputs": []
    },
    {
      "metadata": {
        "trusted": true,
        "id": "-CCk64PaeiEZ"
      },
      "cell_type": "code",
      "source": [
        "from kerastuner import HyperModel\n",
        "from tensorflow.keras.layers import (\n",
        "    Conv2D,\n",
        "    Dense,\n",
        "    Dropout,\n",
        "    Flatten,\n",
        "    MaxPooling2D\n",
        ")\n",
        "\n",
        "class MNIST_CNN_HyperModel(HyperModel):\n",
        "  def __init__(self, input_shape, num_classes):\n",
        "    self.input_shape = INPUT_SHAPE\n",
        "    self.num_classes = NUM_CLASSES\n",
        "  \n",
        "  def build(self,hp):\n",
        "    model = keras.Sequential()\n",
        "    model.add(\n",
        "        Conv2D(\n",
        "            filters = 32,\n",
        "            kernel_size = 3,\n",
        "            activation = 'relu',\n",
        "            input_shape = self.input_shape\n",
        "        )\n",
        "    )\n",
        "\n",
        "    model.add(\n",
        "        Conv2D(\n",
        "            filters = 64,\n",
        "            kernel_size = 3,\n",
        "            activation = 'relu'\n",
        "        )\n",
        "    )\n",
        "\n",
        "    model.add(MaxPooling2D(pool_size = 2))\n",
        "\n",
        "    model.add(\n",
        "        Dropout(rate = hp.Float(\n",
        "            'dropout_1',\n",
        "            min_value = 0.0,\n",
        "            max_value = 0.5,\n",
        "            default = 0.25,\n",
        "            step = 0.05\n",
        "        ))\n",
        "    )\n",
        "\n",
        "    model.add(Flatten())\n",
        "\n",
        "    model.add(\n",
        "        Dense(\n",
        "            units = hp.Int(\n",
        "                'units',\n",
        "                min_value = 32,\n",
        "                max_value = 512,\n",
        "                step = 32,\n",
        "                default = 128\n",
        "            ),\n",
        "            activation = hp.Choice(\n",
        "                'dense_activation',\n",
        "                values = ['relu','tanh','sigmoid'],\n",
        "                default = 'relu'\n",
        "            )\n",
        "        )\n",
        "    )\n",
        "\n",
        "    model.add(\n",
        "        Dropout(\n",
        "            rate = hp.Float(\n",
        "                'dropout_3',\n",
        "                min_value = 0.25,\n",
        "                max_value = 0.75,\n",
        "                default = 0.5,\n",
        "                step = 0.05\n",
        "            )\n",
        "        )\n",
        "    )\n",
        "\n",
        "    model.add(\n",
        "        Dense(\n",
        "            self.num_classes,\n",
        "            activation = 'softmax'\n",
        "        )\n",
        "    )\n",
        "\n",
        "    model.compile(\n",
        "        optimizer = keras.optimizers.Adadelta(\n",
        "            hp.Float(\n",
        "                'learning_rate',\n",
        "                min_value = 1e-4,\n",
        "                max_value = 1e-2,\n",
        "                sampling = 'LOG',\n",
        "                default = 1e-3\n",
        "            )\n",
        "        ),\n",
        "        loss=keras.losses.sparse_categorical_crossentropy,\n",
        "        metrics=['accuracy']\n",
        "    )\n",
        "    return model"
      ],
      "execution_count": null,
      "outputs": []
    },
    {
      "metadata": {
        "trusted": true,
        "id": "tW23n04oeiEa"
      },
      "cell_type": "code",
      "source": [
        "hypermodel = MNIST_CNN_HyperModel(input_shape = INPUT_SHAPE, num_classes=NUM_CLASSES)"
      ],
      "execution_count": null,
      "outputs": []
    },
    {
      "metadata": {
        "trusted": true,
        "id": "AU_jrXJNeiEb"
      },
      "cell_type": "code",
      "source": [
        "HYPERBAND_MAX_EPOCHS = 20\n",
        "MAX_TRIALS = 20\n",
        "EXECUTION_PER_TRIAL = 2\n",
        "SEED = 4\n",
        "INPUT_SHAPE = (28,28,1)\n",
        "NUM_CLASSES = 10"
      ],
      "execution_count": null,
      "outputs": []
    },
    {
      "metadata": {
        "trusted": true,
        "id": "oYVW1UMBeiEb"
      },
      "cell_type": "code",
      "source": [
        "# Choosing Tuner from Keras Tuner \n",
        "from kerastuner.tuners import RandomSearch\n",
        "\n",
        "tuner = RandomSearch(\n",
        "    hypermodel,\n",
        "    objective='val_accuracy',\n",
        "    seed=SEED,\n",
        "    max_trials=MAX_TRIALS,\n",
        "    executions_per_trial=EXECUTION_PER_TRIAL\n",
        ")"
      ],
      "execution_count": null,
      "outputs": []
    },
    {
      "metadata": {
        "trusted": true,
        "id": "FumIaRpueiEc"
      },
      "cell_type": "code",
      "source": [
        "tuner.search_space_summary()"
      ],
      "execution_count": null,
      "outputs": []
    },
    {
      "metadata": {
        "trusted": true,
        "id": "X09Ks7i8eiEc"
      },
      "cell_type": "code",
      "source": [
        "N_EPOCH_SEARCH = 20\n",
        "\n",
        "tuner.search(x_train, y_train, epochs=N_EPOCH_SEARCH, validation_data = (x_test,y_test))"
      ],
      "execution_count": null,
      "outputs": []
    },
    {
      "metadata": {
        "trusted": true,
        "id": "zdXQw34-eiEd"
      },
      "cell_type": "code",
      "source": [
        "# Show a summary of the search\n",
        "tuner.results_summary()\n",
        "\n",
        "# Retrieve the best model.\n",
        "best_model = tuner.get_best_models(num_models=1)[0]\n",
        "print(best_model)\n",
        "\n",
        "# Evaluate the best model.\n",
        "loss, accuracy = best_model.evaluate(x_test, y_test)\n",
        "print(loss)\n",
        "print(accuracy)"
      ],
      "execution_count": null,
      "outputs": []
    },
    {
      "metadata": {
        "trusted": true,
        "id": "DwUUgNi3eiEd"
      },
      "cell_type": "code",
      "source": [
        "from kerastuner.tuners import Hyperband\n",
        "\n",
        "\n",
        "tuner = Hyperband(\n",
        "    hypermodel,\n",
        "    max_epochs=HYPERBAND_MAX_EPOCHS,\n",
        "    objective='val_accuracy',\n",
        "    seed=SEED,\n",
        "    executions_per_trial=EXECUTION_PER_TRIAL,\n",
        "    project_name = 'MNIST')"
      ],
      "execution_count": null,
      "outputs": []
    },
    {
      "metadata": {
        "trusted": true,
        "id": "BKjmj4_NeiEd"
      },
      "cell_type": "code",
      "source": [
        "N_EPOCH_SEARCH = 20\n",
        "\n",
        "tuner.search(x_train, y_train, epochs=N_EPOCH_SEARCH, validation_data = (x_test,y_test))"
      ],
      "execution_count": null,
      "outputs": []
    },
    {
      "metadata": {
        "trusted": true,
        "id": "ZU5RjsIdeiEd"
      },
      "cell_type": "code",
      "source": [
        "# Show a summary of the search\n",
        "tuner.results_summary()\n",
        "\n",
        "# Retrieve the best model.\n",
        "best_model = tuner.get_best_models(num_models=1)[0]\n",
        "print(best_model)\n",
        "\n",
        "# Evaluate the best model.\n",
        "loss, accuracy = best_model.evaluate(x_test, y_test)\n",
        "print(loss)\n",
        "print(accuracy)"
      ],
      "execution_count": null,
      "outputs": []
    }
  ],
  "metadata": {
    "kernelspec": {
      "language": "python",
      "display_name": "Python 3",
      "name": "python3"
    },
    "language_info": {
      "pygments_lexer": "ipython3",
      "nbconvert_exporter": "python",
      "version": "3.6.4",
      "file_extension": ".py",
      "codemirror_mode": {
        "name": "ipython",
        "version": 3
      },
      "name": "python",
      "mimetype": "text/x-python"
    },
    "colab": {
      "provenance": [],
      "include_colab_link": true
    },
    "gpuClass": "standard"
  },
  "nbformat": 4,
  "nbformat_minor": 0
}